{
 "cells": [
  {
   "cell_type": "code",
   "execution_count": 1,
   "metadata": {},
   "outputs": [],
   "source": [
    "import pandas as pd\n",
    "import numpy as np\n",
    "from itertools import combinations\n",
    "from matplotlib import pyplot as plt\n",
    "from tqdm import tqdm\n",
    "from sklearn import manifold\n",
    "%matplotlib inline"
   ]
  },
  {
   "cell_type": "code",
   "execution_count": 2,
   "metadata": {},
   "outputs": [],
   "source": [
    "#This function uses the sum over the model weights as a count\n",
    "#it builds the groupby sums column by column, then divides by the total weight of all the answer options\n",
    "#Then combines all of those together into a dataframe\n",
    "def getProbDistMatrix(dataFrame, weightingString):\n",
    "    l=[]\n",
    "    cols = []\n",
    "    for c in dataFrame.iloc[:,4:].columns:\n",
    "        if dataFrame[c].count() > 65:\n",
    "            a = dataFrame.groupby(c)[weightingString].sum()\n",
    "            if ' ' in set(a.index):\n",
    "                a = a.drop(' ')\n",
    "            l.append(a/a.sum())\n",
    "            cols.append(c)\n",
    "    if len(l) > 0:\n",
    "        df = pd.concat(l,axis=1)\n",
    "        df.columns = cols\n",
    "        return df\n",
    "    else:\n",
    "        return(pd.DataFrame())"
   ]
  },
  {
   "cell_type": "code",
   "execution_count": 3,
   "metadata": {},
   "outputs": [],
   "source": [
    "def calcHistogramDistance(dist1, dist2):\n",
    "    t=np.sqrt(dist1*dist2).sum()\n",
    "    t=t[t!=0]\n",
    "    d=np.log(t)*-1\n",
    "    return d"
   ]
  },
  {
   "cell_type": "code",
   "execution_count": 4,
   "metadata": {},
   "outputs": [],
   "source": [
    "#read data file into dataframe\n",
    "df = pd.read_csv(r'C:\\Deep Market Analysis\\stratvisdata.csv',encoding = 'ISO-8859-1', dtype='str')"
   ]
  },
  {
   "cell_type": "code",
   "execution_count": 8,
   "metadata": {},
   "outputs": [],
   "source": [
    "#I created a file with labels for each column header in the main data file\n",
    "cols=pd.read_excel(r'C:\\Deep Market Analysis\\columnTitles.xlsx')"
   ]
  },
  {
   "cell_type": "code",
   "execution_count": 10,
   "metadata": {},
   "outputs": [],
   "source": [
    "#drop some of the buisiness use vehicles\n",
    "dropVehicleList = ['Nissan NV Compact Cargo Van','Nissan NV Passenger Van','Nissan NV Cargo Van']"
   ]
  },
  {
   "cell_type": "code",
   "execution_count": 12,
   "metadata": {},
   "outputs": [],
   "source": [
    "#list of variables to keep. \n",
    "keepList = cols[cols['use'].isin(['Demographics','Make','Model','Segment','weight'])]['n1'].tolist() #excluded 'Question'"
   ]
  },
  {
   "cell_type": "code",
   "execution_count": 13,
   "metadata": {},
   "outputs": [
    {
     "data": {
      "text/plain": [
       "['NR-Combined Weight 2',\n",
       " 'New Model Purchased (Alpha Order)',\n",
       " 'New Model Purchased - Brand',\n",
       " 'New Model Segment',\n",
       " 'Gender',\n",
       " 'Marital Status',\n",
       " 'Lifestage',\n",
       " 'Lifestage Variable (1)',\n",
       " 'Lifestage Plus Affluence (1)',\n",
       " 'Socioeconomic Groups (8)',\n",
       " 'Generation',\n",
       " 'Total # Children In Household',\n",
       " 'Children Under 6',\n",
       " 'Children 6 To 12',\n",
       " 'Children 13 To 17',\n",
       " 'People 18 or Older',\n",
       " 'Total In Household',\n",
       " 'Education',\n",
       " 'Employment FT/PT/Self',\n",
       " 'Occupation',\n",
       " 'Total Family Pre-Tax Income',\n",
       " 'Economic Outlook',\n",
       " 'Ethnic Group (1)']"
      ]
     },
     "execution_count": 13,
     "metadata": {},
     "output_type": "execute_result"
    }
   ],
   "source": [
    "keepList"
   ]
  },
  {
   "cell_type": "code",
   "execution_count": 14,
   "metadata": {},
   "outputs": [],
   "source": [
    "#remove unneeded data\n",
    "modelVar = 'New Model Purchased (Alpha Order)'\n",
    "weightingString = 'NR-Combined Weight 2'\n",
    "df2 = df[keepList]\n",
    "df2 = df2[~df2.loc[:,modelVar].isin(dropVehicleList)]\n",
    "df2 = df2[~(df2['Children Under 6']=='9')]\n",
    "df2.loc[:,weightingString] = pd.to_numeric(df2[weightingString])"
   ]
  },
  {
   "cell_type": "code",
   "execution_count": 16,
   "metadata": {},
   "outputs": [
    {
     "data": {
      "text/plain": [
       "['NR-Combined Weight 2',\n",
       " 'New Model Purchased (Alpha Order)',\n",
       " 'New Model Purchased - Brand',\n",
       " 'New Model Segment',\n",
       " 'Gender',\n",
       " 'Marital Status',\n",
       " 'Lifestage',\n",
       " 'Lifestage Variable (1)',\n",
       " 'Lifestage Plus Affluence (1)',\n",
       " 'Socioeconomic Groups (8)',\n",
       " 'Generation',\n",
       " 'Total # Children In Household',\n",
       " 'Children Under 6',\n",
       " 'Children 6 To 12',\n",
       " 'Children 13 To 17',\n",
       " 'People 18 or Older',\n",
       " 'Total In Household',\n",
       " 'Education',\n",
       " 'Employment FT/PT/Self',\n",
       " 'Occupation',\n",
       " 'Total Family Pre-Tax Income',\n",
       " 'Economic Outlook',\n",
       " 'Ethnic Group (1)']"
      ]
     },
     "execution_count": 16,
     "metadata": {},
     "output_type": "execute_result"
    }
   ],
   "source": [
    "list(df2.columns)"
   ]
  },
  {
   "cell_type": "code",
   "execution_count": 17,
   "metadata": {},
   "outputs": [
    {
     "name": "stdout",
     "output_type": "stream",
     "text": [
      "Ford C-MAX Energi\n",
      "Subaru BRZ\n",
      "Acura RLX\n",
      "Acura RLX Hybrid\n",
      "Nissan GT-R\n",
      "Toyota Mirai\n",
      "Lexus LC\n",
      "Mitsubishi Lancer\n",
      "Mercedes-Benz CLS-Class\n",
      "Mercedes-Benz AMG GT Roadster\n",
      "Porsche 911 Coupe\n",
      "Volkswagen Beetle Conv\n",
      "Audi TT Coupe\n",
      "Audi A8/S8\n",
      "Fiat 500e\n",
      "Alfa Romeo 4C Coupe\n",
      "Mercedes-Benz G-Class\n",
      "Porsche Cayenne\n",
      "Jeep Patriot\n",
      "Lincoln Navigator L\n",
      "Chevrolet Express Cargo Van\n",
      "Infiniti QX70\n",
      "Chrysler 200 Sdn\n",
      "Ford Focus Hatchback Electric\n",
      "Chevrolet Malibu Hybrid\n",
      "Chevrolet SS\n",
      "Buick Verano\n",
      "Cadillac ATS Coupe\n",
      "Kia Soul EV\n",
      "Kia Rio Hatchback\n",
      "Kia K900\n",
      "Acura NSX\n",
      "Nissan 370Z Conv\n",
      "Infiniti Q50 Hybrid Sdn\n",
      "Toyota 86\n",
      "Toyota Yaris Hatchback\n",
      "Mitsubishi Mirage GT Hatchback\n",
      "Hyundai Accent Hatchback\n",
      "Hyundai Ioniq EV\n",
      "Hyundai Sonata Plug-in Hybrid\n",
      "Hyundai Azera\n",
      "BMW 7e Series\n",
      "BMW 5 Series Gran Turismo\n",
      "BMW 6 Series Coupe\n",
      "BMW 6 Series Gran Coupe\n",
      "BMW i8\n",
      "BMW 6 Series Conv\n",
      "Jaguar XF Sportbrake\n",
      "Mercedes-Benz S-Class Maybach\n",
      "Mercedes-Benz C-Class Plug-in Hybrid\n",
      "Mercedes-Benz S-Class Coupe\n",
      "Mercedes-Benz B-Class\n",
      "Mercedes-Benz AMG GT/GT S\n",
      "Mercedes-Benz S-Class Cabriolet\n",
      "Porsche Cayman\n",
      "Porsche Panamera\n",
      "Porsche 911 Cabriolet\n",
      "Volkswagen Golf R\n",
      "Volkswagen e-Golf\n",
      "Volkswagen CC\n",
      "Audi R8 Coupe\n",
      "Audi TT Roadster\n",
      "Volvo S90 Hybrid\n",
      "Fiat 500 Abarth Hatchback\n",
      "Fiat 500\n",
      "Fiat 500 Abarth Cabrio\n",
      "Fiat 500L\n",
      "Alfa Romeo Giulia Quadrifoglio\n",
      "smart fortwo Cabriolet\n",
      "smart fortwo Cabriolet (Electric)\n",
      "smart fortwo E Coupe\n",
      "Mercedes-Benz GLE e\n",
      "Volkswagen Touareg\n",
      "Land Rover Range Rover Evoque Cpe\n",
      "Ram ProMaster\n",
      "Ram ProMaster City\n",
      "Ford Transit Passenger Van\n",
      "Ford Transit Connect Van\n",
      "Ford Transit Connect Wagon\n",
      "Lincoln MKT\n",
      "Chevrolet City Express Cargo Van\n",
      "GMC Savana Cargo Van\n",
      "Toyota Land Cruiser\n",
      "Lexus LX570\n",
      "Mitsubishi Outlander Hybrid\n",
      "Porsche Boxster\n",
      "Fiat 500 Conv\n",
      "smart fortwo Coupe\n",
      "Hyundai Ioniq Plug-in Hybrid\n",
      "Porsche Cayenne Hybrid\n",
      "Kia Niro Plug-in\n",
      "Lexus RXL\n",
      "Mercedes-Benz GLC e\n",
      "Mitsubishi Eclipse Cross\n",
      "Buick Regal TourX\n",
      "Chevrolet Express Passenger Wagon\n",
      "Lexus LS500 Hybrid\n",
      "Porsche Panamera Hybrid\n",
      "Ford GT\n",
      "Lexus GS Hybrid\n",
      "GMC Savana Wagon\n",
      "Subaru Ascent\n",
      "Lexus RXL450h\n",
      "Mercedes-Benz S-Class Hybrid Sdn\n",
      "BMW i8 Conv\n",
      "Toyota Corolla Hatchback\n",
      "Exotic Car\n"
     ]
    }
   ],
   "source": [
    "#Creates a probability distribution dict using JD Power segmentation and sales weighting\n",
    "jdprobDist = {}\n",
    "jdprobDist['all'] = getProbDistMatrix(df2, weightingString)\n",
    "sampleCount = {}\n",
    "sampleCount['all'] = df2.count()\n",
    "modelKeys = []\n",
    "segmentKeys = []\n",
    "makeKeys = []\n",
    "modelVar = 'New Model Purchased (Alpha Order)'\n",
    "#create probability distributions for each Series\n",
    "for model in df2[modelVar].unique():\n",
    "    temp = df2[df2[modelVar]==model].replace(' ',np.nan)\n",
    "    if temp[weightingString].count() > 65:\n",
    "        jdprobDist[model] = getProbDistMatrix(temp, weightingString)\n",
    "        modelKeys.append(model)\n",
    "        sampleCount[model] = temp.count()\n",
    "    else:\n",
    "        print(model)\n",
    "\n",
    "jdsegmentVar = 'New Model Segment'\n",
    "#create probability distributions for each JD Power Segment\n",
    "for seg in df2[jdsegmentVar].unique():\n",
    "    temp = df2[df2[jdsegmentVar]==seg].replace(' ',np.nan)\n",
    "    if temp[weightingString].count() > 65:\n",
    "        jdprobDist[seg] = getProbDistMatrix(temp, weightingString)\n",
    "        segmentKeys.append(seg)\n",
    "        sampleCount[seg] = temp.count()\n",
    "    else:\n",
    "        print(seg)\n",
    "\n",
    "makeVar = 'New Model Purchased - Brand'\n",
    "#create probability distributions for each Brand\n",
    "for make in df2[makeVar].unique():\n",
    "    temp = df2[df2[makeVar]==make].replace(' ',np.nan)\n",
    "    if temp[weightingString].count() > 65:\n",
    "        jdprobDist[make] = getProbDistMatrix(temp, weightingString)\n",
    "        makeKeys.append(make)\n",
    "        sampleCount[make] = temp.count()\n",
    "    else:\n",
    "        print(make)"
   ]
  },
  {
   "cell_type": "code",
   "execution_count": 18,
   "metadata": {},
   "outputs": [],
   "source": [
    "#otherwise memory allocation becomes enormous\n",
    "#for year in yearKeys:\n",
    "fullDistanceDict = {}\n",
    "ks = list(jdprobDist.keys())\n",
    "for i in ks:\n",
    "    fullDistanceDict[i] = {}\n",
    "for k1, k2 in combinations(ks,2):\n",
    "    temp = calcHistogramDistance(jdprobDist[k1],jdprobDist[k2])\n",
    "    fullDistanceDict[k1][k2] = temp\n",
    "    fullDistanceDict[k2][k1] = temp"
   ]
  },
  {
   "cell_type": "code",
   "execution_count": 19,
   "metadata": {},
   "outputs": [],
   "source": [
    "fullDistanceDF = pd.DataFrame.from_dict(fullDistanceDict)"
   ]
  },
  {
   "cell_type": "code",
   "execution_count": 20,
   "metadata": {},
   "outputs": [
    {
     "name": "stderr",
     "output_type": "stream",
     "text": [
      "100%|████████████████████████████████████████████████████████████████████████████████| 362/362 [54:43<00:00,  9.07s/it]\n"
     ]
    }
   ],
   "source": [
    "totalDistanceDF = pd.DataFrame(index=fullDistanceDF.index, columns=fullDistanceDF.columns)\n",
    "for i in tqdm(totalDistanceDF.columns):\n",
    "    for j in totalDistanceDF.index:\n",
    "        a = fullDistanceDF.loc[j,i]\n",
    "        if i==j:\n",
    "            totalDistanceDF.loc[j,i] = np.nan\n",
    "        else:\n",
    "            totalDistanceDF.loc[j,i] = np.sqrt((a*a).sum())"
   ]
  },
  {
   "cell_type": "code",
   "execution_count": 43,
   "metadata": {},
   "outputs": [
    {
     "data": {
      "text/plain": [
       "array(['Infiniti Q60 Coupe', 'Infiniti Q50 Sdn', 'Infiniti Q70 Sdn',\n",
       "       'Infiniti QX70', 'Infiniti QX50', 'Infiniti QX60', 'Infiniti QX30',\n",
       "       'Infiniti QX80', 'Infiniti Q50 Hybrid Sdn'], dtype=object)"
      ]
     },
     "execution_count": 43,
     "metadata": {},
     "output_type": "execute_result"
    }
   ],
   "source": [
    "df2[df2['New Model Purchased - Brand']=='Infiniti']['New Model Purchased (Alpha Order)'].unique()"
   ]
  },
  {
   "cell_type": "code",
   "execution_count": 26,
   "metadata": {},
   "outputs": [],
   "source": [
    "mds = manifold.MDS(n_components=2, dissimilarity=\"precomputed\", random_state=6)\n",
    "result = mds.fit(totalDistanceDF.fillna(0.0))"
   ]
  },
  {
   "cell_type": "code",
   "execution_count": 27,
   "metadata": {},
   "outputs": [],
   "source": [
    "#vehicleList = ['cluster2','Toyota Avalon','Nissan Maxima','Mid-Size Crossover Utility','Luxury Utility','Large Car','Nissan Rogue Sport','Nissan Versa Note','Nissan Versa Sdn','Infiniti','Honda','Entry Utility','Honda Accord Sdn','Hyundai Santa Fe','Mid-Size Car','Mid-Size Traditional Utility','Mid-Size Crossover Utility','Nissan','Toyota','Chevrolet','Nissan Sentra','Nissan Rogue','Toyota RAV4','Toyota Camry','Toyota Prius', 'Toyota Prius v', 'Toyota Prius Plug-in','Nissan Altima Sdn','Nissan Leaf','Honda Clarity BEV','Honda Clarity Plug-in Hybrid','Honda Accord Hybrid Sdn','Chevrolet Bolt EV','Chevrolet Volt','Acura RLX Hybrid','Lexus ES300 Hybrid','Hyundai Sonata Hybrid','BMW 3 Series Sdn Hybrid','Tesla Model S','Volvo XC90 Hybrid','Acura MDX Hybrid','Nissan Rogue Hybrid','Toyota RAV4 Hybrid','Lexus NX300 Hybrid','Toyota Highlander Hybrid','Ford C-MAX Hybrid', 'Ford Focus Hatchback Electric','Chevrolet Malibu Hybrid','Kia Optima Hybrid','Infiniti Q50 Hybrid Sdn','Toyota Avalon Hybrid','Hyundai Ioniq EV','Mercedes-Benz C-Class Plug-in Hybrid','Volvo S90 Hybrid','Tesla Model 3','Mercedes-Benz GLE e','Chrysler Pacifica Wagon Hybrid','Hyundai Ioniq Plug-in Hybrid','Porsche Cayenne Hybrid','Lexus LS500 Hybrid','Porsche Panamera Hybrid','Lexus GS Hybrid','Mercedes-Benz S-Class Hybrid Sdn']"
   ]
  },
  {
   "cell_type": "code",
   "execution_count": 48,
   "metadata": {},
   "outputs": [],
   "source": [
    "vehicleList = ['Nissan Maxima','Mid-Size Crossover Utility','Luxury Utility','Large Car','Nissan Rogue Sport','Nissan Versa Note','Nissan Versa Sdn','Infiniti','Entry Utility','Mid-Size Car','Mid-Size Traditional Utility','Mid-Size Crossover Utility','Nissan','Nissan Sentra','Nissan Rogue','Nissan Altima Sdn','Nissan Leaf','Nissan Rogue Hybrid','Infiniti Q50 Sdn','Infiniti QX60','Infiniti QX50','Nissan 370Z Coupe','Nissan Murano','Nissan Pathfinder','Nissan Armada', 'Nissan Frontier','Nissan Titan (LD)', 'Nissan Titan XD', 'Nissan Juke','Nissan 370Z Conv', 'Nissan Kicks','Nissan GT-R','Infiniti Q60 Coupe', 'Infiniti Q50 Sdn', 'Infiniti Q70 Sdn','Infiniti QX70', 'Infiniti QX60', 'Infiniti QX30','Infiniti QX80']"
   ]
  },
  {
   "cell_type": "code",
   "execution_count": 49,
   "metadata": {},
   "outputs": [
    {
     "data": {
      "image/png": "[encoded data removed]",
      "text/plain": [
       "<Figure size 1800x1800 with 1 Axes>"
      ]
     },
     "metadata": {},
     "output_type": "display_data"
    }
   ],
   "source": [
    "#This is the full 2-D projection of the Demographic dataset distance matrix\n",
    "coords = result.embedding_\n",
    "fig = plt.gcf()\n",
    "plt.subplots_adjust(bottom = 0.1)\n",
    "#plt.xlim(-.9, .9)\n",
    "#plt.ylim(-.5, .5)\n",
    "fig.set_size_inches(25,25)\n",
    "plt.scatter(coords[:, 0], coords[:, 1], marker = 'o')\n",
    "for label, x, y in zip(totalDistanceDF.columns.values, coords[:, 0], coords[:, 1]):\n",
    "    if label in vehicleList:\n",
    "        plt.annotate(\n",
    "            label,\n",
    "            xy = (x, y), xytext = (-20, 20),\n",
    "            textcoords = 'offset points', ha = 'right', va = 'bottom',\n",
    "            bbox = dict(boxstyle = 'round,pad=0.5', fc = 'yellow', alpha = 0.5),\n",
    "            arrowprops = dict(arrowstyle = '->', connectionstyle = 'arc3,rad=0'))\n",
    "\n",
    "plt.show()"
   ]
  },
  {
   "cell_type": "code",
   "execution_count": 50,
   "metadata": {},
   "outputs": [],
   "source": [
    "import pickle"
   ]
  },
  {
   "cell_type": "code",
   "execution_count": 51,
   "metadata": {},
   "outputs": [],
   "source": [
    "#Dump all important demo data files into a file\n",
    "pickle.dump( [totalDistanceDF,fullDistanceDF,jdprobDist2] , open( \"histDistStratVis05212019.p\", \"wb\" ) )"
   ]
  },
  {
   "cell_type": "code",
   "execution_count": null,
   "metadata": {},
   "outputs": [],
   "source": [
    "#Load all important demo data from file\n",
    "totalDistanceDF,fullDistanceDF,jdprobDist2 = pickle.load(open( \"histDistStratVis05212019.p\", \"rb\" ))"
   ]
  },
  {
   "cell_type": "code",
   "execution_count": null,
   "metadata": {},
   "outputs": [],
   "source": [
    "df2.head()"
   ]
  },
  {
   "cell_type": "code",
   "execution_count": null,
   "metadata": {},
   "outputs": [],
   "source": [
    "totalDistanceDF.columns.values"
   ]
  },
  {
   "cell_type": "code",
   "execution_count": null,
   "metadata": {},
   "outputs": [],
   "source": [
    "pd.concat([pd.Series(totalDistanceDF.columns.values), pd.Series(coords[:, 0]), pd.Series(coords[:, 1])],axis=1).to_excel(r'D:\\Strat Vis 2D Data.xlsx')"
   ]
  },
  {
   "cell_type": "code",
   "execution_count": null,
   "metadata": {},
   "outputs": [],
   "source": [
    "#shows vehicle distance from overall dataset\n",
    "distance.drop('all').sort_values(ascending=False).plot(kind='bar', figsize=(20,8))"
   ]
  },
  {
   "cell_type": "code",
   "execution_count": null,
   "metadata": {},
   "outputs": [],
   "source": [
    "df1[jdsegmentVar].unique()"
   ]
  },
  {
   "cell_type": "code",
   "execution_count": null,
   "metadata": {},
   "outputs": [],
   "source": [
    "distance[vehicleList].dropna().sort_values(ascending=False).plot(kind='bar', figsize=(20,8))"
   ]
  },
  {
   "cell_type": "code",
   "execution_count": null,
   "metadata": {},
   "outputs": [],
   "source": [
    "df['OVERALL Exterior Styling']"
   ]
  },
  {
   "cell_type": "code",
   "execution_count": null,
   "metadata": {},
   "outputs": [],
   "source": [
    "jdprobDist['all']"
   ]
  },
  {
   "cell_type": "code",
   "execution_count": null,
   "metadata": {},
   "outputs": [],
   "source": [
    "segmentDist = {}\n",
    "distBySegment = {}\n",
    "setOfKeys = set(jdprobDist.keys())\n",
    "for segment in df[jdsegmentVar].unique():\n",
    "    distBySegment[segment] = {}\n",
    "    for model in df[df[jdsegmentVar]==segment][modelVar].unique():\n",
    "        if model in setOfKeys:\n",
    "            a = np.sqrt(jdprobDist[model].fillna(0)*jdprobDist[segment].fillna(0)).sum()\n",
    "            a=a[a!=0]\n",
    "            a=-1*np.log(a)\n",
    "            b = pd.concat([a,sampleCount[model]],axis=1)\n",
    "            b = b[b[1]>50]\n",
    "            c = b[0].rename('Segment Distance')\n",
    "            segmentDist[model] = c\n",
    "            distBySegment[segment][model] = c\n",
    "        else:\n",
    "            print(model)"
   ]
  },
  {
   "cell_type": "code",
   "execution_count": null,
   "metadata": {},
   "outputs": [],
   "source": [
    "a = pd.DataFrame(distBySegment['Mid-Size Car'])\n",
    "np.sqrt((a*a).sum()).sort_values(ascending=False).plot(kind='bar', title='Midsizer Car Distance to Segment for all variables', figsize=(15,6))"
   ]
  },
  {
   "cell_type": "code",
   "execution_count": null,
   "metadata": {},
   "outputs": [],
   "source": [
    "distance['Nissan Altima Sdn'].dropna().sort_values(ascending=False).iloc[:30].plot(kind='bar', rot=90,title='Subaru Legacy Variable Distance to Segment', figsize=(15,6))"
   ]
  },
  {
   "cell_type": "code",
   "execution_count": null,
   "metadata": {},
   "outputs": [],
   "source": [
    "a = pd.DataFrame(segmentDist)\n",
    "a = a.fillna(0)\n",
    "segmentDistance = np.sqrt((a*a).sum())\n",
    "segmentDistance.sort_values(ascending=False).plot(kind='bar', figsize=(20,8))"
   ]
  },
  {
   "cell_type": "code",
   "execution_count": null,
   "metadata": {},
   "outputs": [],
   "source": [
    "makeDist = {}\n",
    "distByMake = {}\n",
    "setOfKeys = set(jdprobDist.keys())\n",
    "for make in df[makeVar].unique():\n",
    "    distByMake[make] = {}\n",
    "    for model in df1[df1[makeVar]==make][modelVar].unique():\n",
    "        if model in setOfKeys:\n",
    "            a = np.sqrt(jdprobDist[model].fillna(0)*jdprobDist[make].fillna(0)).sum()\n",
    "            a=a[a!=0]\n",
    "            a=-1*np.log(a)\n",
    "            b = pd.concat([a,sampleCount[model]],axis=1)\n",
    "            b = b[b[1]>50]\n",
    "            c = b[0].rename('Make Distance')\n",
    "            makeDist[model] = c\n",
    "            distByMake[make][model]=c\n",
    "        else:\n",
    "            print(model)"
   ]
  },
  {
   "cell_type": "code",
   "execution_count": null,
   "metadata": {},
   "outputs": [],
   "source": [
    "a = pd.DataFrame(distByMake['Nissan'])\n",
    "np.sqrt((a*a).sum()).sort_values(ascending=False).plot(kind='bar', title='Nissan Distance to Brand for All Variables', figsize=(15,6))"
   ]
  },
  {
   "cell_type": "code",
   "execution_count": null,
   "metadata": {},
   "outputs": [],
   "source": [
    "segmentDist['Tesla Model 3'].dropna().sort_values(ascending=False).iloc[:40].plot(kind='bar', rot=90,title='Nissan Titan Variable Distance to Segment', figsize=(15,6))"
   ]
  },
  {
   "cell_type": "code",
   "execution_count": null,
   "metadata": {},
   "outputs": [],
   "source": [
    "segmentDist['Tesla Model 3'].dropna().sort_values(ascending=False).iloc[:40].plot(kind='bar', rot=90,title='Nissan Titan Variable Distance to Segment', figsize=(15,6))"
   ]
  },
  {
   "cell_type": "code",
   "execution_count": null,
   "metadata": {},
   "outputs": [],
   "source": [
    "a = pd.DataFrame(makeDist)\n",
    "a = a.fillna(0)\n",
    "makeDistance = np.sqrt((a*a).sum())\n",
    "makeDistance.sort_values(ascending=False).plot(kind='bar', figsize=(20,8))"
   ]
  },
  {
   "cell_type": "code",
   "execution_count": null,
   "metadata": {},
   "outputs": [],
   "source": [
    "makeSegDistance = pd.concat([makeDistance, segmentDistance],axis=1)\n",
    "makeSegDistance.columns=['Make Distance','Segment Distance']"
   ]
  },
  {
   "cell_type": "code",
   "execution_count": null,
   "metadata": {},
   "outputs": [],
   "source": [
    "vehicleList = ['Toyota Prius', 'Toyota Prius v', 'Toyota Prius Plug-in','Nissan Altima Sdn','Nissan Leaf','Honda Clarity BEV','Honda Clarity Plug-in Hybrid','Honda Accord Hybrid Sdn','Chevrolet Bolt EV','Chevrolet Volt','Acura RLX Hybrid','Lexus ES300 Hybrid','Hyundai Sonata Hybrid','BMW 3 Series Sdn Hybrid','Tesla Model S','Volvo XC90 Hybrid','Acura MDX Hybrid','Nissan Rogue Hybrid','Toyota RAV4 Hybrid','Lexus NX300 Hybrid','Toyota Highlander Hybrid','Ford C-MAX Hybrid', 'Ford Focus Hatchback Electric','Chevrolet Malibu Hybrid','Kia Optima Hybrid','Infiniti Q50 Hybrid Sdn','Toyota Avalon Hybrid','Hyundai Ioniq EV','Mercedes-Benz C-Class Plug-in Hybrid','Volvo S90 Hybrid','Tesla Model 3','Mercedes-Benz GLE e','Chrysler Pacifica Wagon Hybrid','Hyundai Ioniq Plug-in Hybrid','Porsche Cayenne Hybrid','Lexus LS500 Hybrid','Porsche Panamera Hybrid','Lexus GS Hybrid','Mercedes-Benz S-Class Hybrid Sdn']"
   ]
  },
  {
   "cell_type": "code",
   "execution_count": null,
   "metadata": {},
   "outputs": [],
   "source": [
    "df1['New Model Purchased (Alpha Order)'].unique()"
   ]
  },
  {
   "cell_type": "code",
   "execution_count": null,
   "metadata": {},
   "outputs": [],
   "source": [
    "makeSegDistance.plot(kind='scatter',x='Make Distance',y='Segment Distance')\n",
    "axes = plt.gca()\n",
    "#axes.set_xlim([0,.5])\n",
    "#axes.set_ylim([0,.5])\n",
    "for txt in list(makeSegDistance.index.values):\n",
    "    if txt in vehicleList:\n",
    "        if np.sqrt((makeSegDistance.loc[txt,'Segment Distance']*makeSegDistance.loc[txt,'Segment Distance'])+(makeSegDistance.loc[txt,'Make Distance']*makeSegDistance.loc[txt,'Make Distance']))>0.0:\n",
    "            plt.annotate(txt, (makeSegDistance.loc[txt,'Make Distance'],makeSegDistance.loc[txt,'Segment Distance']))"
   ]
  },
  {
   "cell_type": "code",
   "execution_count": null,
   "metadata": {},
   "outputs": [],
   "source": [
    "vehicle = 'Nissan Rogue'\n",
    "temp = pd.concat([makeDist[vehicle],segmentDist[vehicle]],axis=1)\n",
    "temp.plot(kind='scatter',x='Make Distance',y='Segment Distance')\n",
    "axes = plt.gca()\n",
    "#axes.set_xlim([0,.5])\n",
    "#axes.set_ylim([0,.5])\n",
    "for txt in list(temp.index.values):\n",
    "    if np.sqrt((temp.loc[txt,'Segment Distance']*temp.loc[txt,'Segment Distance'])+(temp.loc[txt,'Make Distance']*temp.loc[txt,'Make Distance']))>0.005:\n",
    "        plt.annotate(txt, (temp.loc[txt,'Make Distance'],temp.loc[txt,'Segment Distance']))"
   ]
  },
  {
   "cell_type": "code",
   "execution_count": null,
   "metadata": {},
   "outputs": [],
   "source": [
    "temp.plot(kind='scatter',x='Make Distance',y='Segment Distance')"
   ]
  },
  {
   "cell_type": "code",
   "execution_count": null,
   "metadata": {},
   "outputs": [],
   "source": [
    "demographicVars = set(['Gender','Marital Status','Lifestage','Lifestage Variable (1)','Lifestage Plus Affluence (1)','Customer Type','Socioeconomic Groups (8)','Age Bracket','Age Bucket','Total Children In Household','Children Under 6','Children 6 To 12','Children 13 To 17','People 18 or Older','Total In Household','Education','Employment FT/PT/Self','Total Family Pre-Tax Income','Economic Outlook','Ethnic Group (1)','Location Of Residence','Customer Region Classification'])\n",
    "otherVars = set(['Brand (Disposed)', 'Corporation (disposed)', 'Origin (Disposed)', 'Most Important Purchase Reason (2014/2016 Version)', 'Rzns Didn\\'t Buy Model Most Seriously Considered (Mk) (1)', 'Most Important Reason Didn\\'t Buy Model Most Seriously Considered', 'Occupation', 'State'])"
   ]
  },
  {
   "cell_type": "code",
   "execution_count": null,
   "metadata": {},
   "outputs": [],
   "source": [
    "noDemoMakeDist = {}\n",
    "for k, v in makeDist.items():\n",
    "    noDemoMakeDist[k] = v.drop(set(v.dropna().index).intersection(demographicVars.union(otherVars))).dropna()"
   ]
  },
  {
   "cell_type": "code",
   "execution_count": null,
   "metadata": {},
   "outputs": [],
   "source": [
    "noDemoSegmentDist = {}\n",
    "for k, v in segmentDist.items():\n",
    "    noDemoSegmentDist[k] = v.drop(set(v.dropna().index).intersection(demographicVars.union(otherVars))).dropna()"
   ]
  },
  {
   "cell_type": "code",
   "execution_count": null,
   "metadata": {},
   "outputs": [],
   "source": [
    "a = pd.DataFrame(noDemoMakeDist)\n",
    "a = a.fillna(0)\n",
    "noDemoMakeDistance = np.sqrt((a*a).sum())\n",
    "\n",
    "a = pd.DataFrame(noDemoSegmentDist)\n",
    "a = a.fillna(0)\n",
    "noDemoSegmentDistance = np.sqrt((a*a).sum())\n",
    "\n",
    "noDemoMakeSegDistance = pd.concat([noDemoMakeDistance, noDemoSegmentDistance],axis=1)\n",
    "noDemoMakeSegDistance.columns=['Make Distance','Segment Distance']"
   ]
  },
  {
   "cell_type": "code",
   "execution_count": null,
   "metadata": {},
   "outputs": [],
   "source": [
    "noDemoMakeSegDistance.plot(kind='scatter',x='Make Distance',y='Segment Distance')\n",
    "axes = plt.gca()\n",
    "#axes.set_xlim([0,.5])\n",
    "#axes.set_ylim([0,.5])\n",
    "for txt in list(noDemoMakeSegDistance.index.values):\n",
    "    if np.sqrt((noDemoMakeSegDistance.loc[txt,'Segment Distance']*noDemoMakeSegDistance.loc[txt,'Segment Distance'])+(noDemoMakeSegDistance.loc[txt,'Make Distance']*noDemoMakeSegDistance.loc[txt,'Make Distance']))>0.0:\n",
    "        plt.annotate(txt, (noDemoMakeSegDistance.loc[txt,'Make Distance'],noDemoMakeSegDistance.loc[txt,'Segment Distance']))"
   ]
  },
  {
   "cell_type": "code",
   "execution_count": null,
   "metadata": {},
   "outputs": [],
   "source": [
    "vehicle = 'Nissan Altima Sdn'\n",
    "temp = pd.concat([noDemoMakeDist[vehicle],noDemoSegmentDist[vehicle]],axis=1)\n",
    "temp.plot(kind='scatter',x='Make Distance',y='Segment Distance')\n",
    "axes = plt.gca()\n",
    "#axes.set_xlim([0,.5])\n",
    "#axes.set_ylim([0,.5])\n",
    "for txt in list(temp.index.values):\n",
    "    if np.sqrt((temp.loc[txt,'Segment Distance']*temp.loc[txt,'Segment Distance'])+(temp.loc[txt,'Make Distance']*temp.loc[txt,'Make Distance']))>0.01:\n",
    "        plt.annotate(txt, (temp.loc[txt,'Make Distance'],temp.loc[txt,'Segment Distance']))"
   ]
  },
  {
   "cell_type": "code",
   "execution_count": null,
   "metadata": {},
   "outputs": [],
   "source": [
    "demoMakeDist = {}\n",
    "for k, v in makeDist.items():\n",
    "    demoMakeDist[k] = v.loc[set(v.index).intersection(demographicVars)]\n",
    "\n",
    "demoSegmentDist = {}\n",
    "for k, v in segmentDist.items():\n",
    "    demoSegmentDist[k] = v.loc[set(v.index).intersection(demographicVars)]"
   ]
  },
  {
   "cell_type": "code",
   "execution_count": null,
   "metadata": {},
   "outputs": [],
   "source": [
    "a = pd.DataFrame(demoMakeDist)\n",
    "a = a.fillna(0)\n",
    "demoMakeDistance = np.sqrt((a*a).sum())\n",
    "\n",
    "a = pd.DataFrame(demoSegmentDist)\n",
    "a = a.fillna(0)\n",
    "demoSegmentDistance = np.sqrt((a*a).sum())\n",
    "\n",
    "demoMakeSegDistance = pd.concat([demoMakeDistance, demoSegmentDistance],axis=1)\n",
    "demoMakeSegDistance.columns=['Make Distance','Segment Distance']"
   ]
  },
  {
   "cell_type": "code",
   "execution_count": null,
   "metadata": {},
   "outputs": [],
   "source": [
    "demoMakeSegDistance.plot(kind='scatter',x='Make Distance',y='Segment Distance')\n",
    "axes = plt.gca()\n",
    "#axes.set_xlim([0,.5])\n",
    "#axes.set_ylim([0,.5])\n",
    "for txt in list(demoMakeSegDistance.index.values):\n",
    "    if np.sqrt((demoMakeSegDistance.loc[txt,'Segment Distance']*demoMakeSegDistance.loc[txt,'Segment Distance'])+(demoMakeSegDistance.loc[txt,'Make Distance']*demoMakeSegDistance.loc[txt,'Make Distance']))>0.0:\n",
    "        plt.annotate(txt, (demoMakeSegDistance.loc[txt,'Make Distance'],demoMakeSegDistance.loc[txt,'Segment Distance']))"
   ]
  },
  {
   "cell_type": "code",
   "execution_count": null,
   "metadata": {},
   "outputs": [],
   "source": [
    "vehicle = 'Nissan Titan'\n",
    "temp = pd.concat([demoMakeDist[vehicle],demoSegmentDist[vehicle]],axis=1)\n",
    "temp.plot(kind='scatter',x='Make Distance',y='Segment Distance')\n",
    "axes = plt.gca()\n",
    "axes.set_xlim([0,.15])\n",
    "axes.set_ylim([0,.15])\n",
    "for txt in list(temp.index.values):\n",
    "    if np.sqrt((temp.loc[txt,'Segment Distance']*temp.loc[txt,'Segment Distance'])+(temp.loc[txt,'Make Distance']*temp.loc[txt,'Make Distance']))>0.001:\n",
    "        plt.annotate(txt, (temp.loc[txt,'Make Distance'],temp.loc[txt,'Segment Distance']))"
   ]
  },
  {
   "cell_type": "code",
   "execution_count": null,
   "metadata": {},
   "outputs": [],
   "source": [
    "consistentScoreVars = ['Im Curious and Open to Experiences','Luxury is Not Important Unless it Has Purpose','Driving is one of my favorite things to do','When I drive for fun, I mainly prefer to relax and listen to music or talk','I want vehicles that provide that open-air driving experience','I prefer a vehicle that has the capability to outperform others','I prefer vehicles that provide superior acceleration','I prefer vehicles that provide superior handling and cornering agility','I prefer a balance of comfort and performance','I prefer vehicles that provide the softest, most comfortable ride quality','I just want the basics on my vehicle - no extras','I prefer vehicles that project a tough, workman-like image','Vehicles are a tool or a part of the gear in an active outdoors lifestyle','I want to be able to tow heavy loads','I want to be able to traverse any terrain','I make all large vehicle decisions with my familys best interest in mind','My vehicle gives me a feeling of adventure','My vehicle is my sanctuary','Fuel economy is a leading consideration in my purchase decision','I want a basic, no-frills vehicle that does the job','I see my vehicle as an extension of my personality','Price is most important to me when buying a new vehicle','I will easily switch brands for price or features','There are lots of different brands of vehicles that I would consider buying','I want a vehicle that provides the quietest interior','I want to look good when driving my vehicle','I want my vehicle to stand out in a crowd','I want the most versatility in my interior','I would pay significantly more for environmentally friendly vehicle','My vehicle is a reflection of my achievement','I chose my vehicle to reward myself for my hard work','The brand of vehicle I buy makes a statement about who I am','Overall Exterior Styling','Appearance of Wheels & Rims','Appearance of Tires','Headlight Design','Overall Exterior Workmanship','Sound of Doors/Trunk/Hatch Shutting','Overall Driving Performance','Fun To Drive','Ground Clearance','Riding Comfort','Maneuverability','Road Holding Ability','Handling','Overall Power and Pickup','Acceleration From Stop','Passing Capability','Overall Interior Styling','Interior Colors','Overall Interior Workmanship','Quality of Interior Materials','Instrument Panel','Overall Interior Design','Ease of Front Seat Entry','Front Seat Roominess','Passenger Seating Capacity','Interior Storage','Interior Roominess','Cargo Capacity','Haul Cargo in Bed','Cupholders','Ease of Loading/Unloading Cargo','Comfort of Front Seat','Driver Seat Adjustability','Driver Armrests','Seating Versatility/Stowaway','Overall Performance of Sound System','Overall Quietness','CVT','Smoothness of Transmission','Overall Impression of Durability/Reliability','Overall Safety of the Vehicle','Overall Thoughtful Engineering','Placement/Ease of Reading and Using Controls','Electronic Displays of Information','Usefulness of Trunk/Cargo Area','Flat Tire Preparedness (spare, run-flat, etc.)','Safety Features','Front Visibility','Rear Visibility','Braking','Overall Value for the Money','Price/Deal Offered','Future Trade-In or Resale Value','Warranty Coverage','Technical Innovations','Level of Standard Equipment','Fuel Economy/Mileage','Affordable to Buy','Overall Environmental Friendliness','Overall Brand Image','Reputation/Prestige of Manufacturer','Past Experience With Brand','Dealer Location','Dealer Reputation','Overall Experience with Selling Dealership','Overall Experience with Service Department','Advertising/Promotion','Advice of Friends/Relatives','Magazine/Newspaper/TV Reviews','Overall Seat Comfort','Overall Interior Versatility','Overall Image of the Vehicle','4WD/AWD Availability','Navigation System','Discount/Rebate/Incentive','Towing Capability','Interest Rate, Credit Terms','Leasing Terms','Audiovisual System','Ease Of Customizing','Engine Performance','Connectivity (WiFi, Bluetooth, etc.)','Interactive Information System (OnStar, mbrace, iDrive, etc.)','Driving Distance on Full Tank/Charge']"
   ]
  },
  {
   "cell_type": "code",
   "execution_count": null,
   "metadata": {},
   "outputs": [],
   "source": [
    "df1[consistentScoreVars]=df1[consistentScoreVars].replace(to_replace=' ',value=np.nan)"
   ]
  },
  {
   "cell_type": "code",
   "execution_count": null,
   "metadata": {},
   "outputs": [],
   "source": [
    "df1[consistentScoreVars] = df1[consistentScoreVars].apply(pd.to_numeric)"
   ]
  },
  {
   "cell_type": "code",
   "execution_count": null,
   "metadata": {},
   "outputs": [],
   "source": [
    "consistentScoreDF = df1[['Sales Weighting']+[makeVar]+[modelVar]+[jdsegmentVar]+consistentScoreVars]"
   ]
  },
  {
   "cell_type": "code",
   "execution_count": null,
   "metadata": {},
   "outputs": [],
   "source": [
    "selfScoreDict={}\n",
    "#vehicle = 'Nissan Altima Sdn'\n",
    "for vehicle in consistentScoreDF[modelVar].unique():\n",
    "    #get variable counts\n",
    "    countMatrix=consistentScoreDF[consistentScoreDF[modelVar]==vehicle].iloc[:,4:].apply(pd.value_counts)\n",
    "    #prune variables with small sample sizes\n",
    "    truncatedCountMatrix = countMatrix.loc[:,countMatrix.sum()>50]\n",
    "    if len(truncatedCountMatrix.columns)==0:\n",
    "        continue\n",
    "    total=truncatedCountMatrix.sum(axis=1)\n",
    "    #calculate vehicle overall question probability distribution\n",
    "    totalQ=total/total.sum()\n",
    "    #calculate each question's probability distribution\n",
    "    probDistQ = truncatedCountMatrix/truncatedCountMatrix.sum()\n",
    "    #calculate each question's distance to vehicle question distribution\n",
    "    distQ = -1*np.log(np.sqrt(probDistQ.T*totalQ).sum(axis=1))\n",
    "    #calculate each question mean\n",
    "    scores=consistentScoreDF[consistentScoreDF[modelVar]==vehicle][truncatedCountMatrix.columns].mean()\n",
    "    #combine question self-distance and mean into single dataframe\n",
    "    scoreQ = pd.concat([distQ,scores],axis=1)\n",
    "    scoreQ.columns=['Self-Average Question Distance','Average Score']\n",
    "    #insert into dict keyed on vehicle\n",
    "    selfScoreDict[vehicle]=scoreQ"
   ]
  },
  {
   "cell_type": "code",
   "execution_count": null,
   "metadata": {},
   "outputs": [],
   "source": [
    "vehicle = 'Nissan Altima Sdn'\n",
    "scoreQ = selfScoreDict[vehicle].dropna()\n",
    "scoreQ.plot(kind='scatter',x='Average Score',y='Self-Average Question Distance', title='Nissan Titan Question Self-Distance vs Score', figsize=(12,8))\n",
    "for txt in list(scoreQ.index.values):\n",
    "    if scoreQ.loc[txt,'Self-Average Question Distance']>.04:\n",
    "        plt.annotate(txt, (scoreQ.loc[txt,'Average Score'],scoreQ.loc[txt,'Self-Average Question Distance']))"
   ]
  },
  {
   "cell_type": "code",
   "execution_count": null,
   "metadata": {},
   "outputs": [],
   "source": [
    "consistentScoreDF[consistentScoreDF[modelVar]==vehicle].iloc[:,4:].apply(pd.value_counts)['Engine Performance'].plot(kind='bar', title='Nissan Titan Engine Performance Counts')"
   ]
  },
  {
   "cell_type": "code",
   "execution_count": null,
   "metadata": {},
   "outputs": [],
   "source": [
    "countMatrix=consistentScoreDF[consistentScoreDF[modelVar]==vehicle].iloc[:,4:].apply(pd.value_counts)\n",
    "total=countMatrix.sum(axis=1)\n",
    "total.plot(kind='bar', title='Nissan Titan Average Score Counts')"
   ]
  },
  {
   "cell_type": "code",
   "execution_count": null,
   "metadata": {},
   "outputs": [],
   "source": [
    "scoreQAllDict = {}\n",
    "for k, v in selfScoreDict.items():\n",
    "    totalDist = v['Self-Average Question Distance']\n",
    "    totalDist = np.sqrt((totalDist*totalDist).sum())\n",
    "    avgScore = v['Average Score'].mean()\n",
    "    scoreQAllDict[k] = (totalDist,avgScore)"
   ]
  },
  {
   "cell_type": "code",
   "execution_count": null,
   "metadata": {},
   "outputs": [],
   "source": [
    "scoreQAll = pd.DataFrame(scoreQAllDict).T\n",
    "scoreQAll.columns = ['Self-Average Question Distance','Average Score']"
   ]
  },
  {
   "cell_type": "code",
   "execution_count": null,
   "metadata": {},
   "outputs": [],
   "source": [
    "scoreQAll.plot(kind='scatter',x='Average Score',y='Self-Average Question Distance', title='All Models Self-Distance vs Score', figsize=(12,8))\n",
    "for txt in list(scoreQAll.index.values):\n",
    "    if scoreQAll.loc[txt,'Self-Average Question Distance']>0.0:\n",
    "        plt.annotate(txt, (scoreQAll.loc[txt,'Average Score'],scoreQAll.loc[txt,'Self-Average Question Distance']))"
   ]
  },
  {
   "cell_type": "code",
   "execution_count": null,
   "metadata": {},
   "outputs": [],
   "source": [
    "#calculate segment score averages, taking into account weighting\n",
    "segmentScores = {}\n",
    "for segment in consistentScoreDF[jdsegmentVar].unique():\n",
    "    print(segment)\n",
    "    a=consistentScoreDF[consistentScoreDF[jdsegmentVar]==segment]\n",
    "    dfc = pd.DataFrame()\n",
    "    for c in consistentScoreDF.iloc[:,4:].columns:\n",
    "        dfc[c] = a.loc[:,c]*a.loc[:,'Sales Weighting']\n",
    "    segmentScores[segment] = dfc.sum()/a.loc[:,'Sales Weighting'].sum()"
   ]
  },
  {
   "cell_type": "code",
   "execution_count": null,
   "metadata": {},
   "outputs": [],
   "source": [
    "segmentScoreDict={}\n",
    "#vehicle = 'Nissan Altima Sdn'\n",
    "for vehicle in consistentScoreDF[modelVar].unique():\n",
    "    #get vehicle's segment\n",
    "    data = consistentScoreDF[consistentScoreDF[modelVar]==vehicle]\n",
    "    segment=data.loc[:,jdsegmentVar].iloc[0]\n",
    "    temp = consistentScoreDF[consistentScoreDF[jdsegmentVar]==segment].iloc[:,4:].apply(pd.value_counts)\n",
    "    segmentDist = temp/temp.sum()\n",
    "    \n",
    "    #get variable counts\n",
    "    countMatrix=data.iloc[:,4:].apply(pd.value_counts)\n",
    "    #prune variables with small sample sizes\n",
    "    truncatedCountMatrix = countMatrix.loc[:,countMatrix.sum()>65]\n",
    "    if len(truncatedCountMatrix.columns)==0:\n",
    "        print(vehicle)\n",
    "        continue\n",
    "\n",
    "    #calculate each question's probability distribution\n",
    "    probDistQ = truncatedCountMatrix/truncatedCountMatrix.sum().fillna(0)\n",
    "    #calculate each question's distance to segment question distribution\n",
    "    distQ = -1*np.log(np.sqrt(probDistQ*segmentDist).sum())\n",
    "    #calculate each question mean\n",
    "    l=segmentScores[segment]\n",
    "    modelScores=data[truncatedCountMatrix.columns].mean()-l\n",
    "    #calculate difference between model scores and segment scores\n",
    "    \n",
    "    #combine question self-distance and mean into single dataframe\n",
    "    scoreQ = pd.concat([distQ,modelScores],axis=1)\n",
    "    scoreQ.columns=['Question Distance to Segment','Segment Score Delta']\n",
    "    #insert into dict keyed on vehicle\n",
    "    segmentScoreDict[vehicle]=scoreQ"
   ]
  },
  {
   "cell_type": "code",
   "execution_count": null,
   "metadata": {},
   "outputs": [],
   "source": [
    "scoreSegmentAllDict = {}\n",
    "scoreSegmentByModel = {}\n",
    "for s in consistentScoreDF[jdsegmentVar].unique():\n",
    "    scoreSegmentByModel[s] = {}\n",
    "\n",
    "for k, v in segmentScoreDict.items():\n",
    "    segment = consistentScoreDF[consistentScoreDF[modelVar]==k].loc[:,jdsegmentVar].iloc[0]\n",
    "    totalDist = v['Question Distance to Segment']\n",
    "    totalDist = np.sqrt((totalDist*totalDist).sum())\n",
    "    avgScore = v['Segment Score Delta'].mean()\n",
    "    scoreSegmentAllDict[k] = (totalDist,avgScore)\n",
    "    scoreSegmentByModel[segment][k] = (totalDist,avgScore)\n",
    "    \n",
    "scoreSegmentAll = pd.DataFrame(scoreSegmentAllDict).T\n",
    "scoreSegmentAll.columns = ['Question Distance to Segment','Segment Score Delta']"
   ]
  },
  {
   "cell_type": "code",
   "execution_count": null,
   "metadata": {},
   "outputs": [],
   "source": [
    "scoreSegmentAll.plot(kind='scatter',x='Segment Score Delta',y='Question Distance to Segment', figsize=(20,15))\n",
    "plt.title(\"\")\n",
    "for txt in list(scoreSegmentAll.index.values):\n",
    "    if scoreSegmentAll.loc[txt,'Question Distance to Segment']>0.00:\n",
    "        plt.annotate(txt, (scoreSegmentAll.loc[txt,'Segment Score Delta'],scoreSegmentAll.loc[txt,'Question Distance to Segment']))"
   ]
  },
  {
   "cell_type": "code",
   "execution_count": null,
   "metadata": {},
   "outputs": [],
   "source": [
    "a=pd.DataFrame(scoreSegmentByModel['Large Light Duty Pickup'])\n",
    "a.index = ['Question Distance to Segment','Segment Score Delta']\n",
    "a=a.T\n",
    "a.plot(kind='scatter',x='Segment Score Delta',y='Question Distance to Segment', title='Light Duty Pickup Distance to Segment vs Score Delta', figsize=(10,8))\n",
    "for txt in list(a.index.values):\n",
    "    plt.annotate(txt, (a.loc[txt,'Segment Score Delta'],a.loc[txt,'Question Distance to Segment']))"
   ]
  },
  {
   "cell_type": "code",
   "execution_count": null,
   "metadata": {},
   "outputs": [],
   "source": [
    "vehicle = 'Nissan Titan'\n",
    "scoreQ = segmentScoreDict[vehicle].dropna()\n",
    "scoreQ.plot(kind='scatter',x='Segment Score Delta',y='Question Distance to Segment', title='Distance to Segment vs Segment Score Delta', figsize=(20,15))\n",
    "for txt in list(scoreQ.index.values):\n",
    "    if scoreQ.loc[txt,'Question Distance to Segment']>.004:\n",
    "        plt.annotate(txt, (scoreQ.loc[txt,'Segment Score Delta'],scoreQ.loc[txt,'Question Distance to Segment']))"
   ]
  },
  {
   "cell_type": "code",
   "execution_count": null,
   "metadata": {},
   "outputs": [],
   "source": [
    "var = 'I see my vehicle as an extension of my personality'\n",
    "consistentScoreDF[consistentScoreDF[modelVar]==vehicle].iloc[:,4:].apply(pd.value_counts)[var].plot(kind='bar', title='Nissan Titan score counts for \\\"'+var+'\\\"')"
   ]
  },
  {
   "cell_type": "code",
   "execution_count": null,
   "metadata": {},
   "outputs": [],
   "source": [
    "segment=consistentScoreDF[consistentScoreDF[modelVar]==vehicle].loc[:,jdsegmentVar].iloc[0]\n",
    "pd.value_counts(consistentScoreDF[consistentScoreDF[jdsegmentVar]==segment][var]).sort_index().plot(kind='bar',title='Light-Duty Pickup Segment score counts for \\\"'+var+'\\\"')"
   ]
  },
  {
   "cell_type": "code",
   "execution_count": null,
   "metadata": {},
   "outputs": [],
   "source": [
    "a=consistentScoreDF[consistentScoreDF[modelVar]==vehicle].iloc[:,4:].apply(pd.value_counts)[var]\n",
    "a/a.sum()"
   ]
  },
  {
   "cell_type": "code",
   "execution_count": null,
   "metadata": {},
   "outputs": [],
   "source": [
    "b=countMatrix=pd.value_counts(consistentScoreDF[consistentScoreDF[jdsegmentVar]==segment][var])\n",
    "b/b.sum()"
   ]
  },
  {
   "cell_type": "code",
   "execution_count": null,
   "metadata": {},
   "outputs": [],
   "source": [
    "var = ['I want a basic, no-frills vehicle that does the job']\n",
    "consistentScoreDF[consistentScoreDF[jdsegmentVar]=='Large Light Duty Pickup'].hist(bins=range(1,6), figsize=(9, 6))\n",
    "plt.tight_layout()"
   ]
  },
  {
   "cell_type": "code",
   "execution_count": null,
   "metadata": {},
   "outputs": [],
   "source": [
    "var = [modelVar, jdsegmentVar,'I want a basic, no-frills vehicle that does the job']\n",
    "consistentScoreDF[consistentScoreDF[jdsegmentVar]=='Large Light Duty Pickup'][var].hist(by=modelVar,bins=range(1,6), figsize=(18, 12))\n",
    "plt.tight_layout()"
   ]
  },
  {
   "cell_type": "code",
   "execution_count": null,
   "metadata": {},
   "outputs": [],
   "source": [
    "consistentScoreDF[consistentScoreDF[modelVar]=='Nissan Titan'].iloc[:,10:16].hist(bins=range(1,6), figsize=(18, 12))\n",
    "plt.tight_layout()"
   ]
  },
  {
   "cell_type": "code",
   "execution_count": null,
   "metadata": {},
   "outputs": [],
   "source": [
    "df1[df1[jdsegmentVar]=='Midsize Car'].groupby([modelVar,'State'])['Sales Weighting'].count().unstack().to_excel('daata.xlsx')"
   ]
  },
  {
   "cell_type": "code",
   "execution_count": null,
   "metadata": {},
   "outputs": [],
   "source": [
    "l={}\n",
    "names = []\n",
    "k = set(jdprobDist.keys())\n",
    "for m in df1[df1[jdsegmentVar]=='Midsize Car'][modelVar].unique():\n",
    "    if m in k:\n",
    "        a = np.sqrt(jdprobDist[m].fillna(0)*jdprobDist['Midsize Car'].fillna(0)).sum()\n",
    "        a=a[a!=0]\n",
    "        a=-1*np.log(a)\n",
    "        l[m]=a"
   ]
  },
  {
   "cell_type": "code",
   "execution_count": null,
   "metadata": {},
   "outputs": [],
   "source": [
    "p={}\n",
    "for k,v in l.items():\n",
    "    p[k]=v['State']"
   ]
  },
  {
   "cell_type": "code",
   "execution_count": null,
   "metadata": {},
   "outputs": [],
   "source": [
    "pd.Series(p).plot(kind='bar', title='Midsize Car Residence Distances')"
   ]
  },
  {
   "cell_type": "markdown",
   "metadata": {},
   "source": [
    "THIS IS WHERE THE DEEP MARKET ANALYSIS SPECIFIC TO A CLUSTER BEGINS"
   ]
  },
  {
   "cell_type": "code",
   "execution_count": null,
   "metadata": {},
   "outputs": [],
   "source": [
    "dfEV = pd.read_excel(r'C:\\Users\\peterk2\\Desktop\\Deep Market Analysis\\AllClusteredData.xlsx', sheet_name='Sheet1', dtype='str')"
   ]
  },
  {
   "cell_type": "code",
   "execution_count": null,
   "metadata": {},
   "outputs": [],
   "source": [
    "dfEV2 = dfEV[dfEV['Cluster']=='2'].drop('Cluster',axis=1)"
   ]
  },
  {
   "cell_type": "code",
   "execution_count": null,
   "metadata": {},
   "outputs": [],
   "source": [
    "dfEV2"
   ]
  },
  {
   "cell_type": "code",
   "execution_count": null,
   "metadata": {},
   "outputs": [],
   "source": [
    "df2.columns"
   ]
  },
  {
   "cell_type": "code",
   "execution_count": null,
   "metadata": {},
   "outputs": [],
   "source": [
    "def totChil(row):\n",
    "    if row['Total # Children In Household']=='0-None':\n",
    "        return '0'\n",
    "\n",
    "    return '1'"
   ]
  },
  {
   "cell_type": "code",
   "execution_count": null,
   "metadata": {},
   "outputs": [],
   "source": [
    "df2['Have Children'] = df2.apply(totChil, axis=1)"
   ]
  },
  {
   "cell_type": "code",
   "execution_count": null,
   "metadata": {},
   "outputs": [],
   "source": [
    "df2 = df2.drop('Total # Children In Household',axis=1)"
   ]
  },
  {
   "cell_type": "code",
   "execution_count": null,
   "metadata": {},
   "outputs": [],
   "source": [
    "def yChil(row):\n",
    "    if row['Children Under 6']=='0-None':\n",
    "        return '0'\n",
    "\n",
    "    return '1'"
   ]
  },
  {
   "cell_type": "code",
   "execution_count": null,
   "metadata": {},
   "outputs": [],
   "source": [
    "df2['Children Under 6'] = df2.apply(yChil, axis=1)"
   ]
  },
  {
   "cell_type": "code",
   "execution_count": null,
   "metadata": {},
   "outputs": [],
   "source": [
    "def mChil(row):\n",
    "    if row['Children 6 To 12']=='0-None':\n",
    "        return '0'\n",
    "\n",
    "    return '1'"
   ]
  },
  {
   "cell_type": "code",
   "execution_count": null,
   "metadata": {},
   "outputs": [],
   "source": [
    "df2['Children 6 To 12'] = df2.apply(mChil, axis=1)"
   ]
  },
  {
   "cell_type": "code",
   "execution_count": null,
   "metadata": {},
   "outputs": [],
   "source": [
    "def lChil(row):\n",
    "    if row['Children 13 To 17']=='0-None':\n",
    "        return '0'\n",
    "\n",
    "    return '1'"
   ]
  },
  {
   "cell_type": "code",
   "execution_count": null,
   "metadata": {},
   "outputs": [],
   "source": [
    "df2['Children 13 To 17'] = df2.apply(lChil, axis=1)"
   ]
  },
  {
   "cell_type": "code",
   "execution_count": null,
   "metadata": {},
   "outputs": [],
   "source": [
    "def eChil(row):\n",
    "    if row['People 18 or Older']=='0-None':\n",
    "        return '0'\n",
    "\n",
    "    return '1'"
   ]
  },
  {
   "cell_type": "code",
   "execution_count": null,
   "metadata": {},
   "outputs": [],
   "source": [
    "df2['People 18 or Older'] = df2.apply(eChil, axis=1)"
   ]
  },
  {
   "cell_type": "code",
   "execution_count": null,
   "metadata": {},
   "outputs": [],
   "source": [
    "dfEV2.loc[:,weightingString] = pd.to_numeric(dfEV2[weightingString])\n",
    "dfEV2 = dfEV2[df2.columns]"
   ]
  },
  {
   "cell_type": "code",
   "execution_count": null,
   "metadata": {},
   "outputs": [],
   "source": [
    "temp = dfEV2.replace(' ',np.nan)\n",
    "jdprobDist['cluster2'] = getProbDistMatrix(temp, weightingString)\n",
    "jdprobDist['cluster2'] = jdprobDist['cluster2'][jdprobDist['all'].columns.tolist()]"
   ]
  },
  {
   "cell_type": "code",
   "execution_count": null,
   "metadata": {},
   "outputs": [],
   "source": [
    "jdprobDist['all']['Lifestage Variable (1)'].dropna()"
   ]
  },
  {
   "cell_type": "code",
   "execution_count": null,
   "metadata": {
    "scrolled": false
   },
   "outputs": [],
   "source": [
    "totalDistanceDF['all']"
   ]
  },
  {
   "cell_type": "code",
   "execution_count": null,
   "metadata": {},
   "outputs": [],
   "source": [
    "fullDistanceDF['cluster2']['all']"
   ]
  },
  {
   "cell_type": "code",
   "execution_count": null,
   "metadata": {},
   "outputs": [],
   "source": [
    "fullDistanceDF['Nissan Altima Sdn']['all']"
   ]
  },
  {
   "cell_type": "code",
   "execution_count": null,
   "metadata": {},
   "outputs": [],
   "source": [
    "list(jdprobDist.keys())"
   ]
  },
  {
   "cell_type": "code",
   "execution_count": null,
   "metadata": {},
   "outputs": [],
   "source": [
    "replaceDict = {'9.5 : I Love It':9.5,'7.5 : Delightful':7.5,'5.5 : Excellent':5.5,'3.5 : Satisfactory':3.5,'1.5 : A Failure':1.5}"
   ]
  },
  {
   "cell_type": "code",
   "execution_count": null,
   "metadata": {},
   "outputs": [],
   "source": []
  }
 ],
 "metadata": {
  "kernelspec": {
   "display_name": "Python 3",
   "language": "python",
   "name": "python3"
  },
  "language_info": {
   "codemirror_mode": {
    "name": "ipython",
    "version": 3
   },
   "file_extension": ".py",
   "mimetype": "text/x-python",
   "name": "python",
   "nbconvert_exporter": "python",
   "pygments_lexer": "ipython3",
   "version": "3.6.5"
  }
 },
 "nbformat": 4,
 "nbformat_minor": 2
}
